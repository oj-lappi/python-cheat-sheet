{
 "cells": [
  {
   "cell_type": "markdown",
   "metadata": {},
   "source": [
    "# Variabler\n",
    "\n",
    "Variabler är behållare som innehåller värden\n",
    "\n",
    "I python är allt som inte är ett nyckelord och är utan \"\"-tecken en variabel\n",
    "\n",
    "Vi initialiserar (skapar) variabler genom tilldelningsoperatorn =\n"
   ]
  },
  {
   "cell_type": "code",
   "execution_count": null,
   "metadata": {},
   "outputs": [],
   "source": [
    "#Tilldelningsoperatorn =\n",
    "#Tilldelar (sparar) vänster sida in i variabeln (behållaren) på höger sida\n",
    "#Om variabeln inte finns, skapas den nu\n",
    "\n",
    "#Höger sida kan vara variabel eller värde\n",
    "\n",
    "\n",
    "#Ex.\n",
    "\n",
    "tal = 1\n",
    "\n",
    "namn = \"kalle\"\n",
    "\n",
    "inköpslista = [\"äppel\",\"banan\"]\n",
    "\n",
    "#Om vi vill skapa en tom variabel använder vi ett passande \"tomt\" värde på höger sida\n",
    "\n",
    "#Ex\n",
    "\n",
    "tal = 0        #0 kan vara passande \"tomt\" värde för tal\n",
    "\n",
    "efternamn = \"\" #Tom sträng (tom text) är passande för textdata\n",
    "\n",
    "objekt = None  #Specialvärde som python-skaparna har bestämt att betyder \"inget\"\n",
    "\n",
    "todo_list = [] # Tom lista\n",
    "\n"
   ]
  },
  {
   "cell_type": "code",
   "execution_count": 26,
   "metadata": {},
   "outputs": [],
   "source": [
    "#Datatyper\n",
    "\n",
    "#Det finns några olika typer av data i python\n",
    "#Datatypen bestämms av python enligt hur variabeln ser ut\n",
    "\n",
    "#Heltal\n",
    "1\n",
    "\n",
    "4\n",
    "\n",
    "5555\n",
    "\n",
    "#Decimaltal\n",
    "\n",
    "0.3\n",
    "\n",
    "4.5\n",
    "\n",
    "3.14\n",
    "\n",
    "#Sanningsvärden, finns bara två\n",
    "\n",
    "True\n",
    "\n",
    "False\n",
    "\n",
    "\n",
    "#Strängar = listor av bokstäver\n",
    "\n",
    "\"Kalle\"\n",
    "\n",
    "'Tjorven'\n",
    "\n",
    "\"\"\"\n",
    "Lång text\n",
    "på flera rader\n",
    "\"\"\"\n",
    "\n",
    "#Listor av saker\n",
    "\n",
    "[1,2,3,4]\n",
    "\n",
    "[\"Hej\",\"Godda\",\"Gokväll\"]\n",
    "\n",
    "[1,\"äppel\",3.14,\"hej\"]\n",
    "\n",
    "#Kan t.o.m. lägga listor in i listor\n",
    "\n",
    "[[1,2,3],[\"a\",\"b\",\"c\",\"d\"]]\n",
    "\n",
    "#Tupler: listor som inte går att ändra\n",
    "\n",
    "(1,2,3)\n",
    "\n",
    "#En tupel med ett element måste ha ett komma-tecken efter elementet, annars evalueras det bara som ett simpelt värde\n",
    "\n",
    "(\"element\",)#tupel som innehåller strängen \"element\"\n",
    "\n",
    "(\"element\") #strängen \"element\"\n",
    "\n",
    "#Dictionaries (ordböcker)\n",
    "\n",
    "#Jämför en nyckel (en sträng eller ett nummer) som du ger in mot en lista av nycklar, och returnerar värdet.\n",
    "\n",
    "#Deklareras somkommaseparerade nyckel:värde innanför {}\n",
    "\n",
    "#Exempel:\n",
    "\n",
    "primtal = {\n",
    "    1:False,\n",
    "    2:True,\n",
    "    3:True,\n",
    "    4:False,\n",
    "    5:True,\n",
    "    6:False,\n",
    "    7:True,\n",
    "    8:False,\n",
    "    9:False,\n",
    "    10:False\n",
    "}\n",
    "\n",
    "djur = {\n",
    "    \"hund\":\"Människans bästa vän\",\n",
    "    \"katt\":\"Roliga på internet\",\n",
    "    \"orm\":\"Farlig\"\n",
    "}\n",
    "\n",
    "#Vi hämtar värden med hjälp av nyckeln\n",
    "\n",
    "primtal[3]#True\n",
    "\n",
    "djur[\"hund\"]#\"Människans bästa vän\"\n",
    "\n",
    "#Återigen kan vi ha hur komplicerade strukturer som helst\n",
    "\n",
    "ställen={\n",
    "    \"Europa\":{\n",
    "        \"Population\":741447158,\n",
    "        \"Yta\":10180000,#km^2\n",
    "        \"Länder\":[\"Finland\",\"Sverige\",\"Danmark\",\"Norge\",\"Tyskland\",\"Frankrike\",\"Storbritannien\",\"Belgien\",\"Schweiz\",\"Nederländerna\"]\n",
    "    },\n",
    "    \"Afrika\":{\n",
    "        \"Population\":1225080510,\n",
    "        \"Yta\":30370000,#km^2,\n",
    "        \"Länder\":[\"Etiopien\",\"Ghana\",\"Egypten\",\"Elfenbenskusten\",\"Kongo\",\"Sydafrika\",\"Botswana\",\"Namibien\"]\n",
    "    },\n",
    "    \"Nordamerika\":{\n",
    "        \"Population\":579024000,\n",
    "        \"Yta\":24709000,\n",
    "        \"Länder\":[\"Förenta staterna\",\"Kanada\",\"Mexico\",\"Kuba\",\"Haiti\",\"Jamaica\",\"Barbados\",\"Nicaragua\"]\n",
    "    }\n",
    "}\n",
    "\n",
    "#Obs! Ta inte ovan som en geografisk sanning, det fattas många länder"
   ]
  },
  {
   "cell_type": "code",
   "execution_count": null,
   "metadata": {},
   "outputs": [],
   "source": [
    "#Aritmetiska operationer (räkneroperationer)\n",
    "\n",
    "#Python har bland annat dessa räkneoperationer som operatorer (enkla symboler)\n",
    "# +  addition \n",
    "# -  subtraktion\n",
    "# *  multiplikation\n",
    "# /  division\n",
    "# %  resten av division\n",
    "# ** vänster sida upphöjt till höger sida\n",
    "# // höger-sida-roten av vänster sida\n",
    "\n",
    "#Ex.\n",
    "\n",
    "1+1 #== 2\n",
    "\n",
    "1-1 #== 0\n",
    "\n",
    "2*2 #== 4\n",
    "\n",
    "4/2 #== 2\n",
    "\n",
    "5%2 #== 1 (Resten av 5/2)\n",
    "\n",
    "2**3 #== 8 (2^3)\n",
    "\n",
    "8//3 #== 2 (tredje roten av 8)"
   ]
  },
  {
   "cell_type": "code",
   "execution_count": 66,
   "metadata": {},
   "outputs": [],
   "source": [
    "#Specialoperatorer\n",
    "\n",
    "a = a+1\n",
    "\n",
    "a +=1\n",
    "\n",
    "a = a**2\n",
    "\n",
    "a **=2"
   ]
  },
  {
   "cell_type": "code",
   "execution_count": null,
   "metadata": {},
   "outputs": [],
   "source": [
    "#Jämförelse-operationer\n",
    "#Det går att jämföra värden för att få sanninsvärden\n",
    "\n",
    "1 < 2 #== True\n",
    "\n",
    "1 > 2 #== False\n",
    "\n",
    "2 > 2 #==False\n",
    "\n",
    "2 =>2 #större än eller lika med ==True\n",
    "\n",
    "2 <=2 #mindre än eller lika med\n",
    "\n",
    "2 ==2 #lika med == True\n",
    "\n",
    "2 !=2 #inte lika med\n",
    "\n",
    "#Boolska operatorer\n",
    "#kombinerar sanningsvärden\n",
    "\n",
    "#and: både ock\n",
    "\n",
    "1 < 2 and 1 < 3 #== True .Både 1 < 2 och 1 < 3 måste vara sanna\n",
    "\n",
    "#or: antingen eller\n",
    "\n",
    "1 < 2 or 2 < 1  #== True . Nåndera av 1 < 2 eller 2 < 1 måste vara sann\n",
    "\n",
    "#not: negation\n",
    "\n",
    "not 1 < 2 #Inverterar sanningsvärdet. True blir False, False blir True\n",
    "\n",
    "ett_är_minst = (1 < 2 and 1 < 3)\n",
    "\n",
    "ett_är_inte_minst = not ett_är_minst"
   ]
  },
  {
   "cell_type": "markdown",
   "metadata": {},
   "source": [
    "# Block\n",
    "\n",
    "Vissa strukturer i python program är block\n",
    "\n",
    "Block är: \n",
    "\n",
    " - if-satser\n",
    " - if-else-satser\n",
    " - for-satser\n",
    " - while-satser\n",
    " - funktioner\n",
    " - klasser\n",
    "\n",
    "Block består av ett huvud och en kropp\n",
    "\n",
    "Huvudet börjar med en sträng som identifierar blockets typ, slutar alltid med ett kolon, alltså :\n",
    "\n",
    "Kroppen av ett block är indenterat (flyttat in till höger på sidan)\n",
    "\n"
   ]
  },
  {
   "cell_type": "markdown",
   "metadata": {},
   "source": [
    "# If\n",
    "\n",
    "En if-sats är ett flödeskontroll-block, som låter programmet välja vad som ska hända näst.\n",
    "\n",
    "Hur programmet väljer"
   ]
  },
  {
   "cell_type": "code",
   "execution_count": 29,
   "metadata": {},
   "outputs": [
    {
     "name": "stdout",
     "output_type": "stream",
     "text": [
      "Hej!\n",
      "solen skiner!\n",
      "Halleluja, fyra är ett jämnt tal!\n"
     ]
    }
   ],
   "source": [
    "#If-block\n",
    "a = 3\n",
    "#If-blocket består av ett uttryck i huvudet som evalueras till sant eller falskt\n",
    "\n",
    "\n",
    "if a > 2:\n",
    "    print(\"Hej!\")\n",
    "    \n",
    "#Vi kan även genast använda sanningsvärden som vi tidigare beräknat\n",
    "\n",
    "solen_skiner = True\n",
    "\n",
    "if solen_skiner:\n",
    "    print(\"solen skiner!\")\n",
    "\n",
    "\n",
    "fyra_är_jämnt = 4 % 2 == 0\n",
    "\n",
    "if fyra_är_jämnt:\n",
    "    print(\"Halleluja, fyra är ett jämnt tal!\")"
   ]
  },
  {
   "cell_type": "markdown",
   "metadata": {},
   "source": [
    "# Else\n",
    "\n",
    "```else``` och ```elif``` kollas efter att ```if```-villkoret har misslyckats (dvs. villkoret har haft ett falskt värde)\n",
    "\n",
    "```elif``` kollar dessutom ett villkor till, medan else körs oavsett \n",
    "\n",
    "det går att lägga hur många som helst elif efter varann"
   ]
  },
  {
   "cell_type": "code",
   "execution_count": 21,
   "metadata": {},
   "outputs": [
    {
     "name": "stdout",
     "output_type": "stream",
     "text": [
      "Hejdå\n"
     ]
    }
   ],
   "source": [
    "#If-elif-else-sats\n",
    "\n",
    "a = 0\n",
    "\n",
    "if a > 2:\n",
    "    print(\"Hej?\")\n",
    "elif a >0:\n",
    "    print(\"Hej maybe\")\n",
    "else:\n",
    "    print(\"Hejdå\")"
   ]
  },
  {
   "cell_type": "markdown",
   "metadata": {},
   "source": [
    "# Loopar"
   ]
  },
  {
   "cell_type": "code",
   "execution_count": 11,
   "metadata": {},
   "outputs": [
    {
     "name": "stdout",
     "output_type": "stream",
     "text": [
      "\n",
      "frukt_lista\n",
      "banan är en frukt\n",
      "äppel är en frukt\n",
      "citron är en frukt\n",
      "\n",
      "frukt_dict\n",
      "banan är en söt frukt\n",
      "äppel är en söt frukt\n",
      "citron är en sur frukt\n",
      "\n",
      "range(5)\n",
      "0\n",
      "1\n",
      "2\n",
      "3\n",
      "4\n",
      "\n",
      "range(2,5)\n",
      "2\n",
      "3\n",
      "4\n"
     ]
    }
   ],
   "source": [
    "\n",
    "\n",
    "#For-loopar\n",
    "#Med for-block kan loopa genom iteratorer\n",
    "#Exempel på iteratorer är listor\n",
    "\n",
    "frukt_lista= [\"banan\",\"äppel\",\"citron\"]\n",
    "\n",
    "print(\"\\nfrukt_lista\")\n",
    "#Forblocket består av:\n",
    "\n",
    "#for\n",
    "#|  loopvariabel (eller variabler)\n",
    "#|    |   nyckelordet in\n",
    "#|    |   |  iterator   kolon!\n",
    "#|  __|__ |  ____|_____ |\n",
    "for frukt in frukt_lista:\n",
    "    print(frukt,\"är en frukt\")\n",
    "    #Inne i loopen innehåller loopvariabeln frukt varje värde i iteratorn, ett värde åt gången\n",
    "    \n",
    "#För dicts (ordböcker) kan vi packa upp dicten i två variabler, nyckel & värde\n",
    "\n",
    "#Exempel dict\n",
    "frukt_dict= {\"banan\":\"söt\",\n",
    "               \"äppel\":\"söt\",\n",
    "               \"citron\":\"sur\"\n",
    "              }\n",
    "\n",
    "\n",
    "print(\"\\nfrukt_dict\")\n",
    "#Då måste vi först kalla på dictens .items() funktion, annars får vi bara nycklarna\n",
    "\n",
    "#   första loopvariabeln\n",
    "#     |   andra loopvariabeln\n",
    "#   __|__ _|__\n",
    "for frukt,smak in frukt_dict.items():\n",
    "    print(frukt,\"är en\",smak,\"frukt\")\n",
    "    \n",
    "#Vi kan också enkelt loopa över tal med hjälp av range() funktionen (eller xrange)\n",
    "\n",
    "#range(x) ger ett intervall av tal från 0 till x-1\n",
    "\n",
    "print(\"\\nrange(5)\")\n",
    "for i in range(5):\n",
    "    print(i)\n",
    "#range(x,y) ger ett intervall av tal från x till y-1\n",
    "\n",
    "print(\"\\nrange(2,5)\")\n",
    "for i in range(2,5):\n",
    "    print(i)\n"
   ]
  },
  {
   "cell_type": "code",
   "execution_count": null,
   "metadata": {},
   "outputs": [],
   "source": [
    "#While-loopar\n",
    "\n",
    "#while-loopar loopar inte över en iterator, som for loopar, utan de loopar så länge som ett sanninsuttryck är sant\n",
    "\n",
    "#en while loop kan bli en oändlig loop om man glömmer att uppdatera variabler som är en del av villkoret\n",
    "\n",
    "i = 0\n",
    "\n",
    "#while\n",
    "#|\n",
    "#|    villkor\n",
    "#|    __|___\n",
    "while i < 10:\n",
    "    print(i)\n",
    "    i+=1"
   ]
  },
  {
   "cell_type": "markdown",
   "metadata": {},
   "source": [
    "# Loopkontrol\n",
    "\n",
    "Det går att ändra på programmeringsflöde inne i en loop:\n",
    "\n",
    " - break \n",
    "  - tar dig ut ur loopen\n",
    " - continue\n",
    "  - tar dig till början av loopkroppen, ifall av for-loop avancerar loopvariabeln en framåt"
   ]
  },
  {
   "cell_type": "code",
   "execution_count": 8,
   "metadata": {},
   "outputs": [
    {
     "name": "stdout",
     "output_type": "stream",
     "text": [
      "exempel: break\n",
      "3\n",
      "7\n",
      "6\n",
      "4\n",
      "4\n",
      "9\n",
      "0\n",
      "9\n",
      "8\n",
      "10\n",
      "6\n",
      "10\n",
      "9\n",
      "9\n",
      "10\n",
      "7\n",
      "3\n",
      "8\n",
      "7\n",
      "1\n",
      "8\n",
      "1\n",
      "7\n",
      "2\n",
      "9\n",
      "8\n",
      "2\n",
      "5\n",
      "\n",
      "exempel: continue\n",
      "1\n",
      "2\n",
      "3\n",
      "4\n",
      "6\n",
      "7\n",
      "8\n",
      "9\n"
     ]
    }
   ],
   "source": [
    "print(\"exempel: break\")\n",
    "import random\n",
    "while True:\n",
    "    r = random.randint(0,10)\n",
    "    print(r)\n",
    "    if r == 5:\n",
    "        break\n",
    "\n",
    "print(\"\\nexempel: continue\")\n",
    "#continue exempel\n",
    "\n",
    "for i in range(1,10):\n",
    "    if i == 5:\n",
    "        continue\n",
    "    print(i)"
   ]
  },
  {
   "cell_type": "markdown",
   "metadata": {},
   "source": [
    "# While-else\n",
    "\n",
    "Vi kan, som med ```if```, lägga en else efter en while-sats.\n",
    "\n",
    "Denna kör då villkoret inte är sant, helt som en if-sats.\n",
    "\n",
    "I praktiken betyder detta att else-satsen körs efter att resten av loopen har körts."
   ]
  },
  {
   "cell_type": "code",
   "execution_count": null,
   "metadata": {},
   "outputs": [],
   "source": [
    "a = 1\n",
    "while a < 4:\n",
    "    a+=1\n",
    "    print(\"running\")\n",
    "else:\n",
    "    print(\"slut\")"
   ]
  },
  {
   "cell_type": "code",
   "execution_count": 8,
   "metadata": {},
   "outputs": [],
   "source": [
    "#Funktionsblock\n",
    "\n",
    "#Funktionsblocket består av:\n",
    "\n",
    "#def - alla funktionsblock börjar med def \n",
    "#|   funktionens namn - helt som en variabel behöver funktioner ett namn, så att man kan kalla på dem\n",
    "#|   |             funktionens parametrar, inne i en parentes. Parametrarna är separerade med komman\n",
    "#|   |             |                     kolon!\n",
    "#|   |             |                     |\n",
    "def funktions_namn(parameter1,parameter2):\n",
    "    a = parameter1+parameter2  #Uträkning (om det behövs)\n",
    "    return a\n",
    "#   |\n",
    "#   |\n",
    "#   retursats, bestämmer vad funktionens värde blir när den kallas\n",
    "\n",
    "\n",
    "#För att kalla på en funktion\n",
    "\n",
    "#använd namnet av funktionen\n",
    "#|            parentes\n",
    "#|            |inne i parentesen ge värden som funktionen ska använda för parametrarna, \n",
    "#|            || i detta fall blir parameter1 = 1 och parameter2=2\n",
    "#|            ||\n",
    "funktions_namn(1,2)\n",
    "\n",
    "\n",
    "svar = funktions_namn(3,4) #Sparar returvärdet i svar\n",
    "\n",
    "#Svar kommer att innehålla 7\n"
   ]
  },
  {
   "cell_type": "code",
   "execution_count": 18,
   "metadata": {},
   "outputs": [
    {
     "name": "stdout",
     "output_type": "stream",
     "text": [
      "running\n",
      "running\n",
      "running\n",
      "slut\n"
     ]
    }
   ],
   "source": []
  },
  {
   "cell_type": "markdown",
   "metadata": {},
   "source": [
    "# Klasser och objekt\n",
    "\n",
    "Ett objekt är en samling av variabler och funktioner som kan hämtas med hjälp av .-operatorn.\n",
    "\n",
    "Objekt skapas genom att initialisera en klass. En klass är alltså en bottenplan för ett objekt.\n",
    "Då ett objekt initialiseras så kopieras klassen in i objektet och sedan körs ```__init__```-funktionen för klassen med objektet som ```self```\n",
    "\n",
    "## Klass-deklaration\n",
    "\n",
    "En klass är ett block som alla andra"
   ]
  },
  {
   "cell_type": "code",
   "execution_count": 30,
   "metadata": {},
   "outputs": [],
   "source": [
    "#nyckelordet class\n",
    "#|    klassens namn \n",
    "#|    |\n",
    "#|    |  kolon!\n",
    "#|    |  |\n",
    "class Dog:#<-kolon!\n",
    "    \n",
    "    def __init__(self,name):\n",
    "        self.name = name\n",
    "        \n",
    "    def bark(self):\n",
    "        print(self.name, \"says: Woof!\")\n",
    "    \n",
    "    def info():\n",
    "        print(\"a dog class\")"
   ]
  },
  {
   "cell_type": "markdown",
   "metadata": {},
   "source": [
    "En klass är lite som ett eget program som du kan köra när du vill. Ett eget \"namespace\" som det kallas.\n",
    "\n",
    "Det betyder att alla variabler, funktioner, och andra programmeringsobjekt som har deklarerats inne i Dog finns tillgängliga, men de ligger alltså inne i ```Dog``` namnrummet.\n",
    "\n",
    "Alla variabler, funktioner, etc. som vi vanligtvis kallar på ligger i programmeringsfilens eget namnrum, för dem behöver vi inte specifiera namnrum, utan de kan kallas direkt.\n",
    "\n",
    "För att komma åt variabler i andra namnrum använder vi ```.```-operatorn:\n",
    "\n",
    "    <namnrum>.<namn>\n",
    "    \n",
    "Dvs. för att koma åt ```info```-funktionen i ```Dog``` kallar vi på ```Dog```**.**```info()```"
   ]
  },
  {
   "cell_type": "code",
   "execution_count": 13,
   "metadata": {},
   "outputs": [
    {
     "name": "stdout",
     "output_type": "stream",
     "text": [
      "a dog class\n"
     ]
    }
   ],
   "source": [
    "Dog.info()"
   ]
  },
  {
   "cell_type": "markdown",
   "metadata": {},
   "source": [
    "Ett objekt är en kopia av Dog-namnrummet, vi skapar objektet genom att *kalla* på klassen Dog, dvs. vi skriver ```Dog()```. När vi kallar på Dog, körs ```Dog.__init__()``` med argumenten:\n",
    " - ```self```=objektet vi skapar\n",
    " - resten av argumenten fylls i av vad vi ger in i ```Dog()```"
   ]
  },
  {
   "cell_type": "code",
   "execution_count": 14,
   "metadata": {},
   "outputs": [],
   "source": [
    "dog=Dog(\"Kalle\")"
   ]
  },
  {
   "cell_type": "markdown",
   "metadata": {},
   "source": [
    "När vi kallar på funktioner i ett objekts namnrum, lägger python alltid __objektet__ __själv__ in i funktionens första argument, därför brukar det första argumentet kallas ```self```."
   ]
  },
  {
   "cell_type": "code",
   "execution_count": 15,
   "metadata": {},
   "outputs": [
    {
     "name": "stdout",
     "output_type": "stream",
     "text": [
      "Kalle says: Woof!\n"
     ]
    }
   ],
   "source": [
    "#Nu kan vi kalla på dog.bark()\n",
    "dog.bark()"
   ]
  },
  {
   "cell_type": "markdown",
   "metadata": {},
   "source": [
    "P.g.a. detta kan vi inne i funktionerna komma åt information som är sparat på objektet, i detta fall hundens namn.\n",
    "\n",
    "    class Dog:\n",
    "        ...\n",
    "        def bark(self):\n",
    "            print(self.name, \"says: Woof!\") <-- self.name = namnet vi sparade när vi kallade på Dog(), alltså \"Kalle\"\n",
    "        ...\n",
    "        \n",
    "Vi kan också komma åt namnet direkt från dog."
   ]
  },
  {
   "cell_type": "code",
   "execution_count": 18,
   "metadata": {},
   "outputs": [
    {
     "data": {
      "text/plain": [
       "'Kalle'"
      ]
     },
     "execution_count": 18,
     "metadata": {},
     "output_type": "execute_result"
    }
   ],
   "source": [
    "dog.name"
   ]
  },
  {
   "cell_type": "markdown",
   "metadata": {},
   "source": [
    "Men märk att det inte går att kalla på funktioner som inte har några argument, eftersom python alltid tvingar in objektet själv som första argumentet."
   ]
  },
  {
   "cell_type": "code",
   "execution_count": 21,
   "metadata": {},
   "outputs": [
    {
     "ename": "TypeError",
     "evalue": "info() takes 0 positional arguments but 1 was given",
     "output_type": "error",
     "traceback": [
      "\u001b[1;31m---------------------------------------------------------------------------\u001b[0m",
      "\u001b[1;31mTypeError\u001b[0m                                 Traceback (most recent call last)",
      "\u001b[1;32m<ipython-input-21-65ed32909515>\u001b[0m in \u001b[0;36m<module>\u001b[1;34m()\u001b[0m\n\u001b[1;32m----> 1\u001b[1;33m \u001b[0mdog\u001b[0m\u001b[1;33m.\u001b[0m\u001b[0minfo\u001b[0m\u001b[1;33m(\u001b[0m\u001b[1;33m)\u001b[0m\u001b[1;31m#TypeError\u001b[0m\u001b[1;33m\u001b[0m\u001b[0m\n\u001b[0m",
      "\u001b[1;31mTypeError\u001b[0m: info() takes 0 positional arguments but 1 was given"
     ]
    }
   ],
   "source": [
    "dog.info()#TypeError"
   ]
  },
  {
   "cell_type": "markdown",
   "metadata": {},
   "source": [
    "# Ärvning\n",
    "\n",
    "Om det redan finns en klass som gör 90% av vad du vill åstadkomma, men du skulle vilja lägga till lite funktionalitet, hur skall man göra då? Vi kan ärva (eng. inherit) klassen, alltså lägga till nya bitar till den existerande klassen.\n",
    "\n",
    "När en klass ärver en annan klass kallas den nya klassen en subklass till den existerande klassen. Vice versa kallas den gamla klassen en superklass till den nya klassen.\n",
    "\n",
    "Ärvning betyder att vi skapar en klass som utökar en annan klass. Dvs. klassen innehåller alla variabler och funktioner som superklassen har + alla variabler deklarerade i klassen själv. Vi kan **skriva över** variabler och funktioner från superklassen genom att omdefiniera dem. I följande exempel skriver vi över ```__init__```-funktionen.\n",
    "\n",
    "Ärvning sker genom att ge superklassen in som argument till klassen.\n",
    "\n",
    "    class Subklass(Superklass):\n",
    "\n",
    "Detta betyder också att vi kan använda funktionalitet från superklassen i vår klass, såsom i följande exempel."
   ]
  },
  {
   "cell_type": "code",
   "execution_count": 34,
   "metadata": {},
   "outputs": [],
   "source": [
    "#             ärver Dog-klassen\n",
    "#             |\n",
    "class Collie(Dog):\n",
    "    def __init__(self):\n",
    "        Dog.__init__(self,\"Lassie\") #Vi bestämmer att alla Collies har namnet Lassie\n",
    "#       |\n",
    "#       Vi kan t.ex. använda __init__ från Dog för att förenkla klassen"
   ]
  },
  {
   "cell_type": "code",
   "execution_count": 35,
   "metadata": {},
   "outputs": [
    {
     "name": "stdout",
     "output_type": "stream",
     "text": [
      "Lassie says: Woof!\n"
     ]
    }
   ],
   "source": [
    "collie = Collie()\n",
    "collie.bark()"
   ]
  },
  {
   "cell_type": "markdown",
   "metadata": {},
   "source": [
    "```Collie``` är en subklass till ```Dog```, som skiljer sig från ```Dog``` i att vi har hårdkodat namnet \"Lassie\" till den, annars fungerar ```Collie``` exakt som ```Dog```.\n",
    "\n",
    "Eftersom vi skrev om ```__init__``` för ```Collie``` så att den endast tar in ```self```-argumentet kallar vi på ```Collie``` utan argument.\n",
    "\n",
    "Inne i ```__init__``` kallar vi på ```Dog.__init__``` för att skapa en Dog som fungerar. Märk att vi nu måste ge in ```self``` som ett argument, eftersom vi kallar på ```__init__``` explicit, som vilken som helst annan funktion (explicit = uttryckligen, det är vi som kallar på ```__init__``` och inte nån magisk bakgrundsmekanism). "
   ]
  },
  {
   "cell_type": "code",
   "execution_count": null,
   "metadata": {},
   "outputs": [],
   "source": []
  }
 ],
 "metadata": {
  "kernelspec": {
   "display_name": "Python 3",
   "language": "python",
   "name": "python3"
  },
  "language_info": {
   "codemirror_mode": {
    "name": "ipython",
    "version": 3
   },
   "file_extension": ".py",
   "mimetype": "text/x-python",
   "name": "python",
   "nbconvert_exporter": "python",
   "pygments_lexer": "ipython3",
   "version": "3.6.5"
  }
 },
 "nbformat": 4,
 "nbformat_minor": 2
}
